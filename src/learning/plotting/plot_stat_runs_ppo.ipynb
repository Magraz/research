{
 "cells": [
  {
   "cell_type": "code",
   "execution_count": null,
   "metadata": {},
   "outputs": [],
   "source": [
    "import matplotlib.pyplot as plt\n",
    "from collections import defaultdict\n",
    "from pathlib import Path\n",
    "import csv\n",
    "import numpy as np\n",
    "import os\n",
    "import yaml\n",
    "import pickle\n",
    "\n",
    "def moving_average(x, w):\n",
    "    return np.convolve(x, np.ones(w), 'valid') / w\n",
    "\n",
    "plotting_dir = Path().resolve()\n",
    "config_dir = plotting_dir / \"ppo_config.yaml\"\n",
    "\n",
    "with open(config_dir, \"r\") as file:\n",
    "    config = yaml.safe_load(file)\n",
    "\n",
    "base_path = \"/home/magraz/research/src/learning/experiments/results\"\n",
    "batches = [\"salp_global_4a\", \"salp_local_4a\", \"salp_global_8a\", \"salp_local_8a\"]\n",
    "experiments = [\"mlp\", \"transformer\"]\n",
    "trials=[\"trial_curv_cent_rew\", \"trial_frech_rew\", \"trial_autoregress\"]\n",
    "\n",
    "datapoints = 30000\n",
    "moving_avg_window_size = config[\"moving_avg_window_size\"]\n",
    "\n",
    "data = []\n",
    "fig = plt.figure()\n",
    "ax = fig.add_subplot(111)\n",
    "\n",
    "for batch in batches:\n",
    "    for experiment in experiments:\n",
    "        for trial in trials:\n",
    "            \n",
    "            checkpoint_path = Path(f\"{base_path}/{batch}/{experiment}/{trial}/models/data.dat\")\n",
    "\n",
    "            if checkpoint_path.is_file():\n",
    "                with open(checkpoint_path, \"rb\") as handle:\n",
    "                    data = pickle.load(handle)[:datapoints]\n",
    "\n",
    "                    rewards_moving_avg = moving_average(data, moving_avg_window_size)\n",
    "                    ax.plot(rewards_moving_avg, label=f\"{batch}-{experiment}-{trial}\")\n",
    "\n",
    "ax.legend()\n",
    "ax.set_xlabel(\"episodes\")\n",
    "ax.set_ylabel(\"rewards\")\n",
    "\n",
    "plt.show()\n"
   ]
  }
 ],
 "metadata": {
  "kernelspec": {
   "display_name": ".venv",
   "language": "python",
   "name": "python3"
  },
  "language_info": {
   "codemirror_mode": {
    "name": "ipython",
    "version": 3
   },
   "file_extension": ".py",
   "mimetype": "text/x-python",
   "name": "python",
   "nbconvert_exporter": "python",
   "pygments_lexer": "ipython3",
   "version": "3.12.3"
  }
 },
 "nbformat": 4,
 "nbformat_minor": 2
}
